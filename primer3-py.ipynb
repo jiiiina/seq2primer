{
 "cells": [
  {
   "cell_type": "markdown",
   "metadata": {},
   "source": [
    "### primer3-py ###\n",
    "\n",
    "pip3 install primer3-py"
   ]
  },
  {
   "cell_type": "code",
   "execution_count": 1,
   "metadata": {},
   "outputs": [],
   "source": [
    "import primer3"
   ]
  },
  {
   "cell_type": "code",
   "execution_count": 2,
   "metadata": {},
   "outputs": [],
   "source": [
    "def primer(name,seq):\n",
    "    primer = (primer3.bindings.designPrimers(\n",
    "            {\n",
    "                'SEQUENCE_ID': name,\n",
    "                'SEQUENCE_TEMPLATE': seq\n",
    "            },\n",
    "            {\n",
    "                'PRIMER_TASK': 'generic',\n",
    "                'PRIMER_PICK_LEFT_PRIMER': 1,\n",
    "                'PRIMER_PICK_INTERNAL_OLIGO': 0,\n",
    "                'PRIMER_PICK_RIGHT_PRIMER': 1,\n",
    "                'PRIMER_NUM_RETURN': 10, # primer 몇개 output 할건지\n",
    "                'PRIMER_OPT_SIZE': 20,\n",
    "                'PRIMER_MIN_SIZE': 18,\n",
    "                'PRIMER_MAX_SIZE': 24, # opt,min,max 크기가 작을수록 좋음\n",
    "                'PRIMER_OPT_TM': 60.0,\n",
    "                'PRIMER_MIN_TM': 55.0,\n",
    "                'PRIMER_MAX_TM': 65.0,\n",
    "                'PRIMER_MIN_GC': 40.0,\n",
    "                'PRIMER_MAX_GC': 60.0, # GC contents가 많은 primer가 결합능력이 강함\n",
    "                'PRIMER_MAX_POLY_X': 5,\n",
    "                'PRIMER_SALT_MONOVALENT': 50.0,\n",
    "                'PRIMER_DNA_CONC': 50.0,\n",
    "                'PRIMER_MAX_NS_ACCEPTED': 0, # primer 안에 N 포함되는 개수\n",
    "                #'PRIMER_MAX_SELF_ANY': 12, # primer끼리 붙는거\n",
    "                #'PRIMER_MAX_SELF_END': 8,\n",
    "                'PRIMER_PRODUCT_SIZE_RANGE': [450,600]\n",
    "            }))\n",
    "    return primer"
   ]
  }
 ],
 "metadata": {
  "kernelspec": {
   "display_name": "Python 3",
   "language": "python",
   "name": "python3"
  },
  "language_info": {
   "codemirror_mode": {
    "name": "ipython",
    "version": 3
   },
   "file_extension": ".py",
   "mimetype": "text/x-python",
   "name": "python",
   "nbconvert_exporter": "python",
   "pygments_lexer": "ipython3",
   "version": "3.7.4"
  }
 },
 "nbformat": 4,
 "nbformat_minor": 4
}
